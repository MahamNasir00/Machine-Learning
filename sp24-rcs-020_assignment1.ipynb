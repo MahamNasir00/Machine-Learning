{
 "cells": [
  {
   "cell_type": "code",
   "execution_count": 3,
   "id": "84512c8d-f814-48ae-a12c-0a101f7f221d",
   "metadata": {},
   "outputs": [
    {
     "name": "stdout",
     "output_type": "stream",
     "text": [
      "[27, 125, 343, 512, 1728]\n"
     ]
    }
   ],
   "source": [
    "nums = [3, 5, 7, 8, 12]\n",
    "cubes = [x**3 for x in nums]\n",
    "print(cubes)"
   ]
  },
  {
   "cell_type": "code",
   "execution_count": 5,
   "id": "7e909bae-82eb-4293-8d2c-b73622991e3f",
   "metadata": {},
   "outputs": [
    {
     "name": "stdout",
     "output_type": "stream",
     "text": [
      "{'parrot': 2, 'goat': 4, 'spider': 8, 'crab': 10}\n"
     ]
    }
   ],
   "source": [
    "my_dict = {}\n",
    "\n",
    "my_dict['parrot'] = 2\n",
    "my_dict['goat'] = 4\n",
    "my_dict['spider'] = 8\n",
    "my_dict['crab'] = 10\n",
    "\n",
    "print(my_dict)"
   ]
  },
  {
   "cell_type": "code",
   "execution_count": 7,
   "id": "a61c492a-7f1e-4de8-9477-8c65d585a2c4",
   "metadata": {},
   "outputs": [
    {
     "name": "stdout",
     "output_type": "stream",
     "text": [
      "The parrot has 2 legs.\n",
      "The goat has 4 legs.\n",
      "The spider has 8 legs.\n",
      "The crab has 10 legs.\n",
      "The total number of legs is: 24\n"
     ]
    }
   ],
   "source": [
    "my_dict = {'parrot': 2, 'goat': 4, 'spider': 8, 'crab': 10}\n",
    "\n",
    "total_legs = 0\n",
    "\n",
    "for animal, legs in my_dict.items():\n",
    "    print(f'The {animal} has {legs} legs.')\n",
    "    total_legs += legs\n",
    "\n",
    "print(f'The total number of legs is: {total_legs}')"
   ]
  },
  {
   "cell_type": "code",
   "execution_count": 9,
   "id": "84ac99c4-c005-4dca-b66a-95ba151bb31e",
   "metadata": {},
   "outputs": [
    {
     "name": "stdout",
     "output_type": "stream",
     "text": [
      "(3, 9, 4, [8, 6])\n"
     ]
    }
   ],
   "source": [
    "A = (3, 9, 4, [5, 6])\n",
    "\n",
    "A[3][0] = 8\n",
    "\n",
    "print(A)"
   ]
  },
  {
   "cell_type": "code",
   "execution_count": 11,
   "id": "d51eab8f-f305-4b97-a5db-b3f262eed0ec",
   "metadata": {},
   "outputs": [],
   "source": [
    "A = (3, 9, 4, [5, 6])\n",
    "del A"
   ]
  },
  {
   "cell_type": "code",
   "execution_count": 13,
   "id": "5818e1af-ee53-4bab-b5e9-74935caeb746",
   "metadata": {},
   "outputs": [
    {
     "name": "stdout",
     "output_type": "stream",
     "text": [
      "The number of occurrences of 'p' in the tuple is: 2\n"
     ]
    }
   ],
   "source": [
    "B = ('a', 'p', 'p', 'l', 'e')\n",
    "\n",
    "count_p = B.count('p')\n",
    "\n",
    "print(f\"The number of occurrences of 'p' in the tuple is: {count_p}\")"
   ]
  },
  {
   "cell_type": "code",
   "execution_count": 15,
   "id": "a761d34d-63ce-4faa-bcb5-b54cd39bf76f",
   "metadata": {},
   "outputs": [
    {
     "name": "stdout",
     "output_type": "stream",
     "text": [
      "The index of 'l' in the tuple is: 3\n"
     ]
    }
   ],
   "source": [
    "B = ('a', 'p', 'p', 'l', 'e')\n",
    "\n",
    "index_l = B.index('l')\n",
    "\n",
    "print(f\"The index of 'l' in the tuple is: {index_l}\")"
   ]
  },
  {
   "cell_type": "code",
   "execution_count": 17,
   "id": "d59feac3-87dd-4a54-8e77-5f7bea5f06bd",
   "metadata": {},
   "outputs": [
    {
     "name": "stdout",
     "output_type": "stream",
     "text": [
      "Matrix A:\n",
      "[[ 1  2  3  4]\n",
      " [ 5  6  7  8]\n",
      " [ 9 10 11 12]]\n",
      "\n",
      "Array z:\n",
      "[1 0 1]\n"
     ]
    }
   ],
   "source": [
    "import numpy as np\n",
    "\n",
    "A = np.array([[1, 2, 3, 4],\n",
    "              [5, 6, 7, 8],\n",
    "              [9, 10, 11, 12]])\n",
    "\n",
    "z = np.array([1, 0, 1])\n",
    "\n",
    "print(\"Matrix A:\")\n",
    "print(A)\n",
    "print(\"\\nArray z:\")\n",
    "print(z)"
   ]
  },
  {
   "cell_type": "code",
   "execution_count": 42,
   "id": "2e4332e8-f6fc-40b5-ad40-eebd81556128",
   "metadata": {},
   "outputs": [
    {
     "name": "stdout",
     "output_type": "stream",
     "text": [
      "Subarray b:\n",
      "[[1 2]\n",
      " [5 6]]\n"
     ]
    }
   ],
   "source": [
    "A = np.array([[1, 2, 3, 4],\n",
    "              [5, 6, 7, 8],\n",
    "              [9, 10, 11, 12]])\n",
    "\n",
    "b = A[:2, :2]\n",
    "\n",
    "print(\"Subarray b:\")\n",
    "print(b)"
   ]
  },
  {
   "cell_type": "code",
   "execution_count": 44,
   "id": "a7f29865-49cd-4b43-96db-16261824c833",
   "metadata": {},
   "outputs": [
    {
     "name": "stdout",
     "output_type": "stream",
     "text": [
      "Matrix C:\n",
      "[[ 1  2  3  4]\n",
      " [ 5  6  7  8]\n",
      " [ 9 10 11 12]]\n"
     ]
    }
   ],
   "source": [
    "import numpy as np\n",
    "\n",
    "A = np.array([[1, 2, 3, 4],\n",
    "              [5, 6, 7, 8],\n",
    "              [9, 10, 11, 12]])\n",
    "\n",
    "C = np.empty_like(A)\n",
    "\n",
    "print(\"Matrix C:\")\n",
    "print(C)"
   ]
  },
  {
   "cell_type": "code",
   "execution_count": 46,
   "id": "b10ba0ea-b75c-49cc-a167-1cbcd45573a5",
   "metadata": {},
   "outputs": [
    {
     "name": "stdout",
     "output_type": "stream",
     "text": [
      "Matrix C after adding vector z to each column of A:\n",
      "[[ 2  3  4  5]\n",
      " [ 5  6  7  8]\n",
      " [10 11 12 13]]\n"
     ]
    }
   ],
   "source": [
    "import numpy as np\n",
    "\n",
    "# Define matrix A\n",
    "A = np.array([[1, 2, 3, 4],\n",
    "              [5, 6, 7, 8],\n",
    "              [9, 10, 11, 12]])\n",
    "\n",
    "# Define vector z\n",
    "z = np.array([1, 0, 1])\n",
    "\n",
    "# Initialize matrix C with the same shape as A\n",
    "C = np.empty_like(A)\n",
    "\n",
    "# Add vector z to each column of matrix A using an explicit loop\n",
    "for i in range(A.shape[1]):  # Loop over each column\n",
    "    C[:, i] = A[:, i] + z\n",
    "\n",
    "# Print the result\n",
    "print(\"Matrix C after adding vector z to each column of A:\")\n",
    "print(C)"
   ]
  },
  {
   "cell_type": "code",
   "execution_count": 48,
   "id": "7e84ebc6-1623-4839-8b76-db69061271fd",
   "metadata": {},
   "outputs": [
    {
     "name": "stdout",
     "output_type": "stream",
     "text": [
      "Matrix X:\n",
      "[[1 2]\n",
      " [3 4]]\n",
      "\n",
      "Matrix Y:\n",
      "[[5 6]\n",
      " [7 8]]\n",
      "\n",
      "Vector v:\n",
      "[ 9 10]\n"
     ]
    }
   ],
   "source": [
    "import numpy as np\n",
    "\n",
    "X = np.array([[1, 2],\n",
    "              [3, 4]])\n",
    "\n",
    "Y = np.array([[5, 6],\n",
    "              [7, 8]])\n",
    "\n",
    "v = np.array([9, 10])\n",
    "\n",
    "print(\"Matrix X:\")\n",
    "print(X)\n",
    "\n",
    "print(\"\\nMatrix Y:\")\n",
    "print(Y)\n",
    "\n",
    "print(\"\\nVector v:\")\n",
    "print(v)"
   ]
  },
  {
   "cell_type": "code",
   "execution_count": 50,
   "id": "fc86eff9-0bbd-4e74-9a51-cd2e930996dd",
   "metadata": {},
   "outputs": [
    {
     "name": "stdout",
     "output_type": "stream",
     "text": [
      "Sum of Matrix X and Y:\n",
      "[[ 6  8]\n",
      " [10 12]]\n"
     ]
    }
   ],
   "source": [
    "result = X + Y\n",
    "print(\"Sum of Matrix X and Y:\")\n",
    "print(result)"
   ]
  },
  {
   "cell_type": "code",
   "execution_count": 52,
   "id": "ec80a8b7-9222-4f47-ba48-55b25690a1c5",
   "metadata": {},
   "outputs": [
    {
     "name": "stdout",
     "output_type": "stream",
     "text": [
      "Product of Matrix X and Y:\n",
      "[[19 22]\n",
      " [43 50]]\n"
     ]
    }
   ],
   "source": [
    "result = X @ Y\n",
    "print(\"Product of Matrix X and Y:\")\n",
    "print(result)"
   ]
  },
  {
   "cell_type": "code",
   "execution_count": 54,
   "id": "254f6018-454b-433e-a500-b591e7e3a5ac",
   "metadata": {},
   "outputs": [
    {
     "name": "stdout",
     "output_type": "stream",
     "text": [
      "Element-wise square root of matrix Y:\n",
      "[[2.23606798 2.44948974]\n",
      " [2.64575131 2.82842712]]\n"
     ]
    }
   ],
   "source": [
    "sqrt_Y = np.sqrt(Y)\n",
    "print(\"Element-wise square root of matrix Y:\")\n",
    "print(sqrt_Y)"
   ]
  },
  {
   "cell_type": "code",
   "execution_count": 56,
   "id": "88f5baad-ed85-436c-a509-d7681ffe5fb4",
   "metadata": {},
   "outputs": [
    {
     "name": "stdout",
     "output_type": "stream",
     "text": [
      "Dot product of matrix X and vector v:\n",
      "[29 67]\n"
     ]
    }
   ],
   "source": [
    "result = np.dot(X, v)\n",
    "print(\"Dot product of matrix X and vector v:\")\n",
    "print(result)"
   ]
  },
  {
   "cell_type": "code",
   "execution_count": 58,
   "id": "c508992f-2f8b-4092-b2eb-0fe70d836b9d",
   "metadata": {},
   "outputs": [
    {
     "name": "stdout",
     "output_type": "stream",
     "text": [
      "Sum of each column in X:\n",
      "[4 6]\n"
     ]
    }
   ],
   "source": [
    "column_sums = np.sum(X, axis=0)\n",
    "print(\"Sum of each column in X:\")\n",
    "print(column_sums)"
   ]
  },
  {
   "cell_type": "code",
   "execution_count": 10,
   "id": "27b37156-5b7c-486f-a6be-d037bdfe0b6b",
   "metadata": {},
   "outputs": [
    {
     "name": "stdout",
     "output_type": "stream",
     "text": [
      "{3.6666666666666665}\n"
     ]
    }
   ],
   "source": [
    "def Compute(distance, time):\n",
    "    if time == 0:\n",
    "        raise ValueError(\"Time cannot be zero, as it would lead to division by zero.\")\n",
    "    velocity = distance / time\n",
    "    return velocity\n",
    "distance = 330.0\n",
    "time = 90.0\n",
    "velocity = Compute(distance, time)\n",
    "print({velocity})"
   ]
  },
  {
   "cell_type": "code",
   "execution_count": 18,
   "id": "9590ad9e-3992-4009-98fe-0ca329c6a4c7",
   "metadata": {},
   "outputs": [
    {
     "name": "stdout",
     "output_type": "stream",
     "text": [
      "List of even numbers up to 12:\n",
      "[2, 4, 6, 8, 10, 12]\n",
      "\n",
      "Product of all entries in the list:\n",
      "46080\n"
     ]
    }
   ],
   "source": [
    "even_num = [x for x in range(2, 13, 2)]\n",
    "def mult(numbers):\n",
    "    product = 1\n",
    "    for number in numbers:\n",
    "        product *= number\n",
    "    return product\n",
    "product_of_even_nums = mult(even_num)\n",
    "print(\"List of even numbers up to 12:\")\n",
    "print(even_num)\n",
    "print(\"\\nProduct of all entries in the list:\")\n",
    "print(product_of_even_nums)"
   ]
  },
  {
   "cell_type": "code",
   "execution_count": 20,
   "id": "a11ffdaa-f6bb-4b0a-891a-0f36f1a68c60",
   "metadata": {},
   "outputs": [
    {
     "name": "stdout",
     "output_type": "stream",
     "text": [
      "First two rows of the DataFrame:\n",
      "   C1  C2  C3  C4\n",
      "0   1   6   7   7\n",
      "1   2   7   9   5\n"
     ]
    }
   ],
   "source": [
    "import pandas as pd\n",
    "\n",
    "data = {\n",
    "    'C1': [1, 2, 3, 5, 5],\n",
    "    'C2': [6, 7, 5, 4, 8],\n",
    "    'C3': [7, 9, 8, 6, 5],\n",
    "    'C4': [7, 5, 2, 8, 8]\n",
    "}\n",
    "\n",
    "df = pd.DataFrame(data)\n",
    "\n",
    "print(\"First two rows of the DataFrame:\")\n",
    "print(df.head(2))"
   ]
  },
  {
   "cell_type": "code",
   "execution_count": 26,
   "id": "f46db227-6e58-46cb-a074-59822ae055d9",
   "metadata": {},
   "outputs": [
    {
     "name": "stdout",
     "output_type": "stream",
     "text": [
      "Second column of the DataFrame:\n",
      "0    6\n",
      "1    7\n",
      "2    5\n",
      "3    4\n",
      "4    8\n",
      "Name: C2, dtype: int64\n"
     ]
    }
   ],
   "source": [
    "import pandas as pd\n",
    "\n",
    "# Create the DataFrame with the specified data\n",
    "data = {\n",
    "    'C1': [1, 2, 3, 5, 5],\n",
    "    'C2': [6, 7, 5, 4, 8],\n",
    "    'C3': [7, 9, 8, 6, 5],\n",
    "    'C4': [7, 5, 2, 8, 8]\n",
    "}\n",
    "\n",
    "# Create the DataFrame\n",
    "df = pd.DataFrame(data)\n",
    "\n",
    "# Print the second column (C2)\n",
    "print(\"Second column of the DataFrame:\")\n",
    "print(df['C2'])"
   ]
  },
  {
   "cell_type": "code",
   "execution_count": 28,
   "id": "7050ab00-0897-429b-8a5a-42cbc68a0af6",
   "metadata": {},
   "outputs": [
    {
     "name": "stdout",
     "output_type": "stream",
     "text": [
      "DataFrame with renamed column:\n",
      "   C1  C2  B3  C4\n",
      "0   1   6   7   7\n",
      "1   2   7   9   5\n",
      "2   3   5   8   2\n",
      "3   5   4   6   8\n",
      "4   5   8   5   8\n"
     ]
    }
   ],
   "source": [
    "df.rename(columns={'C3': 'B3'}, inplace=True)\n",
    "\n",
    "print(\"DataFrame with renamed column:\")\n",
    "print(df)"
   ]
  },
  {
   "cell_type": "code",
   "execution_count": 30,
   "id": "e46e1129-8df3-49c1-b4a6-2163c04fbb47",
   "metadata": {},
   "outputs": [
    {
     "name": "stdout",
     "output_type": "stream",
     "text": [
      "DataFrame with the new 'Sum' column:\n",
      "   C1  C2  B3  C4  Sum\n",
      "0   1   6   7   7   21\n",
      "1   2   7   9   5   23\n",
      "2   3   5   8   2   18\n",
      "3   5   4   6   8   23\n",
      "4   5   8   5   8   26\n"
     ]
    }
   ],
   "source": [
    "df['Sum'] = df.sum(axis=1)\n",
    "\n",
    "print(\"DataFrame with the new 'Sum' column:\")\n",
    "print(df)"
   ]
  },
  {
   "cell_type": "code",
   "execution_count": 72,
   "id": "0c7a42d6-8e93-4d02-a528-7c76870be3fa",
   "metadata": {},
   "outputs": [
    {
     "name": "stdout",
     "output_type": "stream",
     "text": [
      "DataFrame with the new 'Sum' column:\n",
      "   C1  C2  B3  C4  Sum\n",
      "0   1   6   7   7   21\n",
      "1   2   7   9   5   23\n",
      "2   3   5   8   2   18\n",
      "3   5   4   6   8   23\n",
      "4   5   8   5   8   26\n"
     ]
    }
   ],
   "source": [
    "import pandas as pd\n",
    "\n",
    "# Create the DataFrame with the specified data\n",
    "data = {\n",
    "    'C1': [1, 2, 3, 5, 5],\n",
    "    'C2': [6, 7, 5, 4, 8],\n",
    "    'B3': [7, 9, 8, 6, 5],  # Column name changed from C3 to B3\n",
    "    'C4': [7, 5, 2, 8, 8]\n",
    "}\n",
    "\n",
    "# Create the DataFrame\n",
    "df = pd.DataFrame(data)\n",
    "\n",
    "# Calculate the sum of each row and add it as a new column named 'Sum'\n",
    "df['Sum'] = df.sum(axis=1)\n",
    "\n",
    "# Print the DataFrame to see the changes\n",
    "print(\"DataFrame with the new 'Sum' column:\")\n",
    "print(df)"
   ]
  },
  {
   "cell_type": "code",
   "execution_count": 54,
   "id": "abf232d8-c71e-4922-a337-2c2fd02de132",
   "metadata": {},
   "outputs": [
    {
     "name": "stdout",
     "output_type": "stream",
     "text": [
      "DataFrame loaded from 'hello_sample.csv':\n",
      "    Gender  F_Color     B_Month  Weight\n",
      "0     Male    Black       March      77\n",
      "1     Male      Red       March      72\n",
      "2     Male    Black     October      53\n",
      "3   Female     Blue    February      63\n",
      "4     Male    black    October       80\n",
      "5   Female    Black    december      97\n",
      "6     Male   Orange      August      60\n",
      "7   Female      Red   September      59\n",
      "8     Male     Blue        July      60\n",
      "9     Male     Blue         May      58\n",
      "10  Female      Red    October       60\n",
      "11    Male    Black   September      65\n",
      "12    Male    Green    December      85\n",
      "13    Male    Black       April      72\n",
      "14    Male    Green    January       90\n",
      "15    Male   Yellow   November       90\n",
      "16    Male    Black      August      54\n",
      "17    Male    Black     January      82\n",
      "18    Male  Mustard   December       60\n",
      "19  Female    Black    October       76\n",
      "20    Male    Black   February       67\n",
      "21    Male   Yellow       April      74\n",
      "22    Male      Red  September       66\n"
     ]
    }
   ],
   "source": [
    "import pandas as pd\n",
    "\n",
    "# Read the CSV file into a DataFrame\n",
    "df = pd.read_csv('C:\\\\Users\\\\maham\\\\Downloads\\\\hello_sample.csv')\n",
    "\n",
    "\n",
    "# Print the DataFrame to check its contents\n",
    "print(\"DataFrame loaded from 'hello_sample.csv':\")\n",
    "print(df)"
   ]
  },
  {
   "cell_type": "code",
   "execution_count": 56,
   "id": "0da393cf-aeed-4025-a757-6f847f5b8c95",
   "metadata": {},
   "outputs": [
    {
     "name": "stdout",
     "output_type": "stream",
     "text": [
      "Bottom 2 records of the DataFrame:\n",
      "   Gender F_Color     B_Month  Weight\n",
      "21   Male  Yellow       April      74\n",
      "22   Male     Red  September       66\n"
     ]
    }
   ],
   "source": [
    "print(\"Bottom 2 records of the DataFrame:\")\n",
    "print(df.tail(2))"
   ]
  },
  {
   "cell_type": "code",
   "execution_count": 58,
   "id": "7f9e7851-6413-47f2-b9a7-04b5d12a93cf",
   "metadata": {},
   "outputs": [
    {
     "name": "stdout",
     "output_type": "stream",
     "text": [
      "Information about the DataFrame:\n",
      "<class 'pandas.core.frame.DataFrame'>\n",
      "RangeIndex: 23 entries, 0 to 22\n",
      "Data columns (total 4 columns):\n",
      " #   Column   Non-Null Count  Dtype \n",
      "---  ------   --------------  ----- \n",
      " 0   Gender   23 non-null     object\n",
      " 1   F_Color  23 non-null     object\n",
      " 2   B_Month  23 non-null     object\n",
      " 3   Weight   23 non-null     int64 \n",
      "dtypes: int64(1), object(3)\n",
      "memory usage: 868.0+ bytes\n"
     ]
    }
   ],
   "source": [
    "print(\"Information about the DataFrame:\")\n",
    "df.info()"
   ]
  },
  {
   "cell_type": "code",
   "execution_count": 60,
   "id": "eea3236e-062c-4690-a815-5161ff6d28ee",
   "metadata": {},
   "outputs": [
    {
     "name": "stdout",
     "output_type": "stream",
     "text": [
      "Shape of the DataFrame (rows x columns):\n",
      "(23, 4)\n"
     ]
    }
   ],
   "source": [
    "print(\"Shape of the DataFrame (rows x columns):\")\n",
    "print(df.shape)"
   ]
  },
  {
   "cell_type": "code",
   "execution_count": 62,
   "id": "0451130c-75eb-4343-8056-e5882d8b3cda",
   "metadata": {},
   "outputs": [
    {
     "name": "stdout",
     "output_type": "stream",
     "text": [
      "DataFrame sorted by 'Weight':\n",
      "    Gender  F_Color     B_Month  Weight\n",
      "2     Male    Black     October      53\n",
      "16    Male    Black      August      54\n",
      "9     Male     Blue         May      58\n",
      "7   Female      Red   September      59\n",
      "18    Male  Mustard   December       60\n",
      "10  Female      Red    October       60\n",
      "6     Male   Orange      August      60\n",
      "8     Male     Blue        July      60\n",
      "3   Female     Blue    February      63\n",
      "11    Male    Black   September      65\n",
      "22    Male      Red  September       66\n",
      "20    Male    Black   February       67\n",
      "13    Male    Black       April      72\n",
      "1     Male      Red       March      72\n",
      "21    Male   Yellow       April      74\n",
      "19  Female    Black    October       76\n",
      "0     Male    Black       March      77\n",
      "4     Male    black    October       80\n",
      "17    Male    Black     January      82\n",
      "12    Male    Green    December      85\n",
      "14    Male    Green    January       90\n",
      "15    Male   Yellow   November       90\n",
      "5   Female    Black    december      97\n"
     ]
    }
   ],
   "source": [
    "sorted_df = df.sort_values(by='Weight')\n",
    "\n",
    "print(\"DataFrame sorted by 'Weight':\")\n",
    "print(sorted_df)"
   ]
  },
  {
   "cell_type": "code",
   "execution_count": 64,
   "id": "e2b10e41-52d3-4237-a317-a2eb96c2f546",
   "metadata": {},
   "outputs": [
    {
     "name": "stdout",
     "output_type": "stream",
     "text": [
      "Missing values in the DataFrame (True indicates missing values):\n",
      "    Gender  F_Color  B_Month  Weight\n",
      "0    False    False    False   False\n",
      "1    False    False    False   False\n",
      "2    False    False    False   False\n",
      "3    False    False    False   False\n",
      "4    False    False    False   False\n",
      "5    False    False    False   False\n",
      "6    False    False    False   False\n",
      "7    False    False    False   False\n",
      "8    False    False    False   False\n",
      "9    False    False    False   False\n",
      "10   False    False    False   False\n",
      "11   False    False    False   False\n",
      "12   False    False    False   False\n",
      "13   False    False    False   False\n",
      "14   False    False    False   False\n",
      "15   False    False    False   False\n",
      "16   False    False    False   False\n",
      "17   False    False    False   False\n",
      "18   False    False    False   False\n",
      "19   False    False    False   False\n",
      "20   False    False    False   False\n",
      "21   False    False    False   False\n",
      "22   False    False    False   False\n",
      "\n",
      "DataFrame after dropping rows with missing values:\n",
      "    Gender  F_Color     B_Month  Weight\n",
      "0     Male    Black       March      77\n",
      "1     Male      Red       March      72\n",
      "2     Male    Black     October      53\n",
      "3   Female     Blue    February      63\n",
      "4     Male    black    October       80\n",
      "5   Female    Black    december      97\n",
      "6     Male   Orange      August      60\n",
      "7   Female      Red   September      59\n",
      "8     Male     Blue        July      60\n",
      "9     Male     Blue         May      58\n",
      "10  Female      Red    October       60\n",
      "11    Male    Black   September      65\n",
      "12    Male    Green    December      85\n",
      "13    Male    Black       April      72\n",
      "14    Male    Green    January       90\n",
      "15    Male   Yellow   November       90\n",
      "16    Male    Black      August      54\n",
      "17    Male    Black     January      82\n",
      "18    Male  Mustard   December       60\n",
      "19  Female    Black    October       76\n",
      "20    Male    Black   February       67\n",
      "21    Male   Yellow       April      74\n",
      "22    Male      Red  September       66\n",
      "\n",
      "DataFrame after dropping columns with missing values:\n",
      "    Gender  F_Color     B_Month  Weight\n",
      "0     Male    Black       March      77\n",
      "1     Male      Red       March      72\n",
      "2     Male    Black     October      53\n",
      "3   Female     Blue    February      63\n",
      "4     Male    black    October       80\n",
      "5   Female    Black    december      97\n",
      "6     Male   Orange      August      60\n",
      "7   Female      Red   September      59\n",
      "8     Male     Blue        July      60\n",
      "9     Male     Blue         May      58\n",
      "10  Female      Red    October       60\n",
      "11    Male    Black   September      65\n",
      "12    Male    Green    December      85\n",
      "13    Male    Black       April      72\n",
      "14    Male    Green    January       90\n",
      "15    Male   Yellow   November       90\n",
      "16    Male    Black      August      54\n",
      "17    Male    Black     January      82\n",
      "18    Male  Mustard   December       60\n",
      "19  Female    Black    October       76\n",
      "20    Male    Black   February       67\n",
      "21    Male   Yellow       April      74\n",
      "22    Male      Red  September       66\n"
     ]
    }
   ],
   "source": [
    "print(\"Missing values in the DataFrame (True indicates missing values):\")\n",
    "print(df.isnull())\n",
    "\n",
    "# Use dropna() to remove rows with any missing values\n",
    "df_dropped_rows = df.dropna()\n",
    "# Print the DataFrame after dropping rows with missing values\n",
    "print(\"\\nDataFrame after dropping rows with missing values:\")\n",
    "print(df_dropped_rows)\n",
    "\n",
    "# Use dropna() to remove columns with any missing values\n",
    "df_dropped_columns = df.dropna(axis=1)\n",
    "# Print the DataFrame after dropping columns with missing values\n",
    "print(\"\\nDataFrame after dropping columns with missing values:\")\n",
    "print(df_dropped_columns)"
   ]
  },
  {
   "cell_type": "code",
   "execution_count": null,
   "id": "49a623bb-36cc-47cb-9eca-05fec8763eb4",
   "metadata": {},
   "outputs": [],
   "source": []
  }
 ],
 "metadata": {
  "kernelspec": {
   "display_name": "Python 3 (ipykernel)",
   "language": "python",
   "name": "python3"
  },
  "language_info": {
   "codemirror_mode": {
    "name": "ipython",
    "version": 3
   },
   "file_extension": ".py",
   "mimetype": "text/x-python",
   "name": "python",
   "nbconvert_exporter": "python",
   "pygments_lexer": "ipython3",
   "version": "3.12.4"
  }
 },
 "nbformat": 4,
 "nbformat_minor": 5
}
