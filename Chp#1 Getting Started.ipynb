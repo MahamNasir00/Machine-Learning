{
 "cells": [
  {
   "cell_type": "code",
   "execution_count": 1,
   "id": "6bdd1bc5-b030-415a-9c09-0e1d2b457825",
   "metadata": {},
   "outputs": [
    {
     "name": "stdin",
     "output_type": "stream",
     "text": [
      "Enter a temperature in celsius:  20\n"
     ]
    },
    {
     "name": "stdout",
     "output_type": "stream",
     "text": [
      "In fahrenheit, that is 68.0\n"
     ]
    }
   ],
   "source": [
    "temp = eval(input('Enter a temperature in celsius: '))\n",
    "print('In fahrenheit, that is', 9/5*temp+32)"
   ]
  },
  {
   "cell_type": "code",
   "execution_count": 3,
   "id": "c01b5052-8da8-4182-a18d-b5491f73be0e",
   "metadata": {},
   "outputs": [
    {
     "name": "stdin",
     "output_type": "stream",
     "text": [
      "Enter the first number:  20\n",
      "Enter the second number:  40\n"
     ]
    },
    {
     "name": "stdout",
     "output_type": "stream",
     "text": [
      "The average of two numbers are: 40.0\n"
     ]
    }
   ],
   "source": [
    "num1= eval(input('Enter the first number: '))\n",
    "num2 = eval(input('Enter the second number: '))\n",
    "print('The average of two numbers are:', (num1+num2/2))"
   ]
  },
  {
   "cell_type": "code",
   "execution_count": 5,
   "id": "149316fd-8fa6-46d6-bf59-bee2a3bd0880",
   "metadata": {},
   "outputs": [
    {
     "name": "stdin",
     "output_type": "stream",
     "text": [
      "Enter a number x:  7\n"
     ]
    },
    {
     "name": "stdout",
     "output_type": "stream",
     "text": [
      "7---14---21---28---35\n"
     ]
    }
   ],
   "source": [
    "x = eval(input('Enter a number x: '))\n",
    "print(x, 2*x, 3*x, 4*x, 5*x, sep='---')"
   ]
  },
  {
   "cell_type": "code",
   "execution_count": null,
   "id": "db2ccafc-239d-47ac-ac6f-0ed88a7fdcc1",
   "metadata": {},
   "outputs": [],
   "source": []
  }
 ],
 "metadata": {
  "kernelspec": {
   "display_name": "Python 3 (ipykernel)",
   "language": "python",
   "name": "python3"
  },
  "language_info": {
   "codemirror_mode": {
    "name": "ipython",
    "version": 3
   },
   "file_extension": ".py",
   "mimetype": "text/x-python",
   "name": "python",
   "nbconvert_exporter": "python",
   "pygments_lexer": "ipython3",
   "version": "3.12.4"
  }
 },
 "nbformat": 4,
 "nbformat_minor": 5
}
